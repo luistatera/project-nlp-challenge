{
 "cells": [
  {
   "cell_type": "markdown",
   "id": "cb329d99",
   "metadata": {},
   "source": [
    "# Project: Fake News Classification"
   ]
  },
  {
   "cell_type": "markdown",
   "id": "24995232",
   "metadata": {},
   "source": [
    "# 1. Imports & Setup"
   ]
  },
  {
   "cell_type": "code",
   "execution_count": null,
   "id": "b24551f5",
   "metadata": {},
   "outputs": [],
   "source": [
    "%pip install pandas\n",
    "import pandas as pd\n",
    "import numpy as np\n",
    "%pip install matplotlib\n",
    "import matplotlib.pyplot as plt\n",
    "%pip install seaborn\n",
    "import seaborn as sns\n",
    "import re\n",
    "import string\n",
    "\n",
    "%pip install scikit-learn\n",
    "from sklearn.model_selection import train_test_split\n",
    "from sklearn.feature_extraction.text import TfidfVectorizer\n",
    "from sklearn.linear_model import LogisticRegression\n",
    "from sklearn.metrics import classification_report, confusion_matrix\n",
    "\n"
   ]
  },
  {
   "cell_type": "markdown",
   "id": "9b5d0a83",
   "metadata": {},
   "source": [
    "# 2. Load Data"
   ]
  },
  {
   "cell_type": "code",
   "execution_count": null,
   "id": "88a6ab38",
   "metadata": {},
   "outputs": [],
   "source": [
    "df = pd.read_csv(\"dataset/data.csv\")\n",
    "val_df = pd.read_csv(\"dataset/validation_data.csv\")\n",
    "df.head()\n",
    "val_df.head()\n",
    "# print(val_df['label'].unique())\n"
   ]
  },
  {
   "cell_type": "markdown",
   "id": "6937c16d",
   "metadata": {},
   "source": [
    "# 3. Clening Up Data"
   ]
  },
  {
   "cell_type": "code",
   "execution_count": 23,
   "id": "b441f8e6",
   "metadata": {},
   "outputs": [],
   "source": [
    "# Remove duplicate rows based on the 'text' column\n",
    "df = df.drop_duplicates(subset=['text']) \n",
    "\n",
    "# Remove rows with 'text' is NaN\n",
    "df = df.dropna(subset=['text']) \n",
    "\n",
    "# Remove rows with 'label' is NaN\n",
    "df = df.dropna(subset=['label']) \n",
    "\n",
    "# Remove rows with 'text' empty or only with whitespace\n",
    "df = df[df['text'].str.strip() != ''] "
   ]
  },
  {
   "cell_type": "markdown",
   "id": "879ec064",
   "metadata": {},
   "source": [
    "# 4. Preprocessing"
   ]
  },
  {
   "cell_type": "code",
   "execution_count": 24,
   "id": "9a740ccc",
   "metadata": {},
   "outputs": [],
   "source": [
    "def clean_text(text):\n",
    "    text = text.lower()\n",
    "    text = re.sub(r'\\[.*?\\]', '', text)\n",
    "    text = re.sub(r'http\\S+|www\\S+|https\\S+', '', text)\n",
    "    text = re.sub(r'<.*?>+', '', text)\n",
    "    text = re.sub(r'[%s]' % re.escape(string.punctuation), '', text)\n",
    "    text = re.sub(r'\\n', '', text)\n",
    "    text = re.sub(r'\\w*\\d\\w*', '', text)\n",
    "    return text\n",
    "\n",
    "df['text_clean'] = df['title'] + \" \" + df['text']\n",
    "# df['text_clean'] = df['text_clean'].apply(clean_text)\n"
   ]
  },
  {
   "cell_type": "markdown",
   "id": "b88121d1",
   "metadata": {},
   "source": [
    "# 5. Data Exploration"
   ]
  },
  {
   "cell_type": "code",
   "execution_count": null,
   "id": "55e16def",
   "metadata": {},
   "outputs": [],
   "source": [
    "df.info()\n",
    "df['label'].value_counts().plot(kind='bar', title='Class Balance')\n"
   ]
  },
  {
   "cell_type": "markdown",
   "id": "6f814b30",
   "metadata": {},
   "source": [
    "# 6. Train/Test Split"
   ]
  },
  {
   "cell_type": "code",
   "execution_count": 26,
   "id": "4679c0d5",
   "metadata": {},
   "outputs": [],
   "source": [
    "X = df['title'] + \" \" + df['text_clean']\n",
    "y = df['label']\n",
    "X_train, X_test, y_train, y_test = train_test_split(X, y, test_size=0.2, random_state=42)\n"
   ]
  },
  {
   "cell_type": "markdown",
   "id": "e3c79fc6",
   "metadata": {},
   "source": [
    "# 7. Vectorization + Model Training"
   ]
  },
  {
   "cell_type": "code",
   "execution_count": 27,
   "id": "5741a809",
   "metadata": {},
   "outputs": [],
   "source": [
    "vectorizer = TfidfVectorizer(max_features=5000)\n",
    "X_train_vec = vectorizer.fit_transform(X_train)\n",
    "X_test_vec = vectorizer.transform(X_test)\n",
    "\n",
    "model = LogisticRegression()\n",
    "model.fit(X_train_vec, y_train)\n",
    "\n",
    "y_pred = model.predict(X_test_vec)\n"
   ]
  },
  {
   "cell_type": "markdown",
   "id": "9706ead4",
   "metadata": {},
   "source": [
    "# 8. Evaluation"
   ]
  },
  {
   "cell_type": "code",
   "execution_count": null,
   "id": "e5b52270",
   "metadata": {},
   "outputs": [],
   "source": [
    "print(classification_report(y_test, y_pred))\n",
    "sns.heatmap(confusion_matrix(y_test, y_pred), annot=True, fmt='d')\n"
   ]
  },
  {
   "cell_type": "markdown",
   "id": "e050b32c",
   "metadata": {},
   "source": [
    "# 9. Predict Validation Set"
   ]
  },
  {
   "cell_type": "code",
   "execution_count": 29,
   "id": "d4f99cf7",
   "metadata": {},
   "outputs": [],
   "source": [
    "val_df['text_clean'] = (val_df['title'] + \" \" + val_df['text']).apply(clean_text)\n",
    "X_val_vec = vectorizer.transform(val_df['text_clean'])\n",
    "val_df['label'] = model.predict(X_val_vec)\n",
    "\n",
    "# Save predictions\n",
    "val_df.reset_index(inplace=True)\n",
    "val_df[['index', 'label']].to_csv(\"predictions.csv\", index=False)\n"
   ]
  }
 ],
 "metadata": {
  "kernelspec": {
   "display_name": "Python 3",
   "language": "python",
   "name": "python3"
  },
  "language_info": {
   "codemirror_mode": {
    "name": "ipython",
    "version": 3
   },
   "file_extension": ".py",
   "mimetype": "text/x-python",
   "name": "python",
   "nbconvert_exporter": "python",
   "pygments_lexer": "ipython3",
   "version": "3.9.6"
  }
 },
 "nbformat": 4,
 "nbformat_minor": 5
}
